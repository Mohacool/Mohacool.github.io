{
 "cells": [
  {
   "cell_type": "code",
   "execution_count": 1,
   "metadata": {},
   "outputs": [],
   "source": [
    "import numpy as np\n",
    "import matplotlib.pyplot as plt\n",
    "from scipy.io import wavfile"
   ]
  },
  {
   "cell_type": "markdown",
   "metadata": {},
   "source": [
    "## Steps:\n",
    "\n",
    "1) open sound file\n",
    "\n",
    "2) fft\n",
    "\n",
    "3) identify top peaks (all peaks above threshold)\n",
    "\n",
    "TODO:\n",
    "\n",
    "4) convert peaks to notes NOTE: guitar must be tuned\n",
    "\n",
    "Using this table of note frequencies: https://www.liutaiomottola.com/formulae/freqtab.htm\n",
    "\n",
    "5) put notes in a set (no repeats)\n",
    "\n",
    "6) send set of notes to website for identification\n",
    "\n",
    "## Ideas:\n",
    "\n",
    "- can the sound be read straight into an array rather than saving as wav and then reading it?\n",
    "- trim silence from audio file (only start reording once the volume is above threshold (this is website side, not in this code)\n",
    "- trim frequency spectrum to within range of guitar frequencies (does this improve speed? The frequencies outside this range are probably not going to have high enough amplitudes to matter anyways))\n",
    "- remove frequencies from table if they are too high/low for a guitar to play\n",
    "\n",
    "\n",
    "# parameters:\n",
    "- threshold for a frequency to count as a \"main frequency\", currently set to max_amplitude/5"
   ]
  },
  {
   "cell_type": "code",
   "execution_count": 2,
   "metadata": {},
   "outputs": [
    {
     "name": "stdout",
     "output_type": "stream",
     "text": [
      "['C' 'C#' 'D' 'D#' 'E' 'F' 'F#' 'G' 'G#' 'A' 'A#' 'B' 'C' 'C#' 'D' 'D#'\n",
      " 'E' 'F' 'F#' 'G' 'G#' 'A' 'A#' 'B' 'C' 'C#' 'D' 'D#' 'E' 'F' 'F#' 'G'\n",
      " 'G#' 'A' 'A#' 'B' 'C' 'C#' 'D' 'D#' 'E' 'F' 'F#' 'G' 'G#' 'A' 'A#' 'B'\n",
      " 'C' 'C#' 'D' 'D#' 'E' 'F' 'F#' 'G' 'G#' 'A' 'A#' 'B' 'C' 'C#' 'D' 'D#'\n",
      " 'E' 'F' 'F#' 'G' 'G#' 'A' 'A#' 'B' 'C' 'C#' 'D' 'D#' 'E' 'F' 'F#' 'G'\n",
      " 'G#' 'A' 'A#' 'B' 'C' 'C#' 'D' 'D#' 'E' 'F' 'F#' 'G' 'G#' 'A' 'A#' 'B'\n",
      " 'C' 'C#' 'D' 'D#' 'E' 'F' 'F#' 'G' 'G#' 'A' 'A#' 'B' 'C' 'C#' 'D' 'D#'\n",
      " 'E' 'F' 'F#' 'G' 'G#' 'A' 'A#' 'B']\n"
     ]
    },
    {
     "data": {
      "text/html": [
       "<div>\n",
       "<style scoped>\n",
       "    .dataframe tbody tr th:only-of-type {\n",
       "        vertical-align: middle;\n",
       "    }\n",
       "\n",
       "    .dataframe tbody tr th {\n",
       "        vertical-align: top;\n",
       "    }\n",
       "\n",
       "    .dataframe thead th {\n",
       "        text-align: right;\n",
       "    }\n",
       "</style>\n",
       "<table border=\"1\" class=\"dataframe\">\n",
       "  <thead>\n",
       "    <tr style=\"text-align: right;\">\n",
       "      <th></th>\n",
       "      <th>Note Name</th>\n",
       "      <th>Frequency (Hz)</th>\n",
       "    </tr>\n",
       "  </thead>\n",
       "  <tbody>\n",
       "    <tr>\n",
       "      <th>0</th>\n",
       "      <td>C</td>\n",
       "      <td>16.351</td>\n",
       "    </tr>\n",
       "    <tr>\n",
       "      <th>1</th>\n",
       "      <td>C#</td>\n",
       "      <td>17.324</td>\n",
       "    </tr>\n",
       "    <tr>\n",
       "      <th>2</th>\n",
       "      <td>D</td>\n",
       "      <td>18.354</td>\n",
       "    </tr>\n",
       "    <tr>\n",
       "      <th>3</th>\n",
       "      <td>D#</td>\n",
       "      <td>19.445</td>\n",
       "    </tr>\n",
       "    <tr>\n",
       "      <th>4</th>\n",
       "      <td>E</td>\n",
       "      <td>20.601</td>\n",
       "    </tr>\n",
       "    <tr>\n",
       "      <th>...</th>\n",
       "      <td>...</td>\n",
       "      <td>...</td>\n",
       "    </tr>\n",
       "    <tr>\n",
       "      <th>115</th>\n",
       "      <td>G</td>\n",
       "      <td>12543.856</td>\n",
       "    </tr>\n",
       "    <tr>\n",
       "      <th>116</th>\n",
       "      <td>G#</td>\n",
       "      <td>13289.752</td>\n",
       "    </tr>\n",
       "    <tr>\n",
       "      <th>117</th>\n",
       "      <td>A</td>\n",
       "      <td>14080</td>\n",
       "    </tr>\n",
       "    <tr>\n",
       "      <th>118</th>\n",
       "      <td>A#</td>\n",
       "      <td>14917.24</td>\n",
       "    </tr>\n",
       "    <tr>\n",
       "      <th>119</th>\n",
       "      <td>B</td>\n",
       "      <td>15804.264</td>\n",
       "    </tr>\n",
       "  </tbody>\n",
       "</table>\n",
       "<p>120 rows × 2 columns</p>\n",
       "</div>"
      ],
      "text/plain": [
       "    Note Name Frequency (Hz)\n",
       "0           C         16.351\n",
       "1          C#         17.324\n",
       "2           D         18.354\n",
       "3          D#         19.445\n",
       "4           E         20.601\n",
       "..        ...            ...\n",
       "115         G      12543.856\n",
       "116        G#      13289.752\n",
       "117         A          14080\n",
       "118        A#       14917.24\n",
       "119         B      15804.264\n",
       "\n",
       "[120 rows x 2 columns]"
      ]
     },
     "execution_count": 2,
     "metadata": {},
     "output_type": "execute_result"
    }
   ],
   "source": [
    "# GLOBAL VARIABLES (TABLE OF NOTE FREQUENCIES)\n",
    "\n",
    "# read, rewrite, and save table of not frequencies\n",
    "import pandas as pd\n",
    "\n",
    "noteTable = np.genfromtxt('note_frequency_table.csv', delimiter=',', encoding=\"utf-8-sig\", dtype=None, invalid_raise = False, comments=None)\n",
    "noteNames = np.array(noteTable[1:, 0])\n",
    "noteFreqs = np.array(noteTable[1:, 1]).astype(float)\n",
    "print(noteNames)\n",
    "\n",
    "\n",
    "# create pandas dataframe (unnecessary)\n",
    "noteTable = pd.DataFrame(noteTable[1:, :], columns=noteTable[0])\n",
    "noteTable"
   ]
  },
  {
   "cell_type": "code",
   "execution_count": 3,
   "metadata": {},
   "outputs": [],
   "source": [
    "def freqToNote(freq):\n",
    "    '''\n",
    "    Given a frequency return the name of the note that is closest to the frequency provided, using this table of \n",
    "    frequencies of musical notes:\n",
    "    \n",
    "    https://www.liutaiomottola.com/formulae/freqtab.htm\n",
    "    '''\n",
    "    \n",
    "    # mean ratio between consecutive notes (technically all are equal, but we only have up to 3 decimals in table so ratios aren't exact)\n",
    "    ratio = 1.0594634189848198\n",
    "    \n",
    "    # first note in the table:\n",
    "    firstNote = 16.351\n",
    "    \n",
    "    # approximate index (rounded down) of freq in the table\n",
    "    i = np.log(freq/firstNote)/np.log(ratio)\n",
    "    #print(\"i:\", i)\n",
    "    #print(\"i:\", i.astype(int))\n",
    "    # the frequency correspondds to the note at index i or i+1 in the table, so check which is closest\n",
    "    #print(freq, \" is either\", noteNames[int(i)], \" or \", noteNames[int(i)+1])\n",
    "    #print(freq, \" is either\", noteFreqs[int(i)], \" or \", noteFreqs[int(i)+1])\n",
    "\n",
    "    # TODO: max of i and i+1, in a way that allows vectorization (get 2 2-element arrays (names and freqs) return index of max of the subtraction)\n",
    "    freqDifference = np.array([np.abs(freq - noteFreqs[i.astype(int)]), np.abs(freq - noteFreqs[i.astype(int)+1])])\n",
    "    \n",
    "    possibleNotes = np.array([noteNames[i.astype(int)], noteNames[i.astype(int)+1]]).T\n",
    "    \n",
    "    #print(\"frequency difference: \\n\", freqDifference)\n",
    "    #print(\"shape:\", freqDifference.shape)\n",
    "    \n",
    "    #print(\"possible notes:\\n\", possibleNotes)\n",
    "    #print(\"shape:\", possibleNotes.shape)\n",
    "    \n",
    "    #print(\"argmin:\\n\", np.argmin(freqDifference, axis=0))\n",
    "    \n",
    "    indices = (np.arange(freqDifference.shape[1]), np.argmin(freqDifference, axis=0))\n",
    "    #print(\"indices:\\n\", indices)\n",
    "    \n",
    "\n",
    "    note = possibleNotes[indices]\n",
    "        \n",
    "    return note\n",
    "    \n",
    "\n",
    "def getSignal(fileName, drawPlots=False):\n",
    "    '''\n",
    "    Read the given .wav file and return the signal\n",
    "    '''\n",
    "    # Read the .wav file to get the sampling rate and the data contained in the file\n",
    "    sampFreq, sound = wavfile.read(fileName)\n",
    "\n",
    "    #    sound.dtype = 'int16'means that the sound pressure values are mapped to integer values that can range from -2^15 to (2^15)-1. The samples are taken 44100 times per second.\n",
    "    \n",
    "    #    We can convert our sound (numpy) array to floating point values ranging from -1 to 1 as follows:\n",
    "    #sound = sound / 2.0**15 \n",
    "\n",
    "\n",
    "    # Duration of the chord/sound (in seconds):\n",
    "    duration = sound.shape[0] / sampFreq\n",
    "\n",
    "\n",
    "    # To get the proper time on the x-axis we have to generate a numpy array using sampFreq:\n",
    "    time = np.arange(sound.shape[0]) / sound.shape[0] * duration\n",
    "\n",
    "    # select a single channel:\n",
    "    signal = sound[:,0] \n",
    "    \n",
    "    \n",
    "    if drawPlots:\n",
    "        plt.plot(time, signal)\n",
    "        plt.xlabel(\"Time(s)\")\n",
    "        plt.ylabel(\"Amplitude\")\n",
    "        plt.title(\"Signal\")\n",
    "        plt.show()\n",
    "    \n",
    "    \n",
    "    return signal, sampFreq\n",
    "\n",
    "\n",
    "\n",
    "\n",
    "\n"
   ]
  },
  {
   "cell_type": "code",
   "execution_count": 4,
   "metadata": {},
   "outputs": [],
   "source": [
    "def Identify(signal, sampFreq, thresh=3, drawPlots=False):\n",
    "    '''\n",
    "    Identifies the chord in the given audio signal using Fourier analysis.\n",
    "    \n",
    "    Returns the chord (list of the notes in the major triad), the root note, and the duration the chord \n",
    "    plays for (ie. length of the wav file) in seconds\n",
    "    '''\n",
    "\n",
    "    signal, sampFreq = getSignal(fileName, drawPlots)\n",
    "\n",
    "    s=time.time()\n",
    "    \n",
    "    # Find the amplitude of each frequency using fast fourier transform\n",
    "    fft_spectrum = np.fft.rfft(signal)\n",
    "    amp = np.abs(fft_spectrum)\n",
    "    freq = np.fft.rfftfreq(signal.size, d=1./sampFreq)\n",
    "    print(\"FFT time:\", time.time()-s)\n",
    "    \n",
    "    threshold = np.max(amp)/thresh\n",
    "    \n",
    "    # Plot the frequencies   \n",
    "    if drawPlots:\n",
    "        f1 = plt.figure()\n",
    "        plt.plot(freq[:3500], amp[:3500])\n",
    "        plt.xlabel(\"Frequency (Hz)\")\n",
    "        plt.ylabel(\"Amplitude\")\n",
    "        plt.title(\"Frequency spectrum\")\n",
    "        plt.plot(np.arange(1000), np.ones(1000)*threshold, label=\"threshold\")\n",
    "        plt.legend(loc=\"upper right\")\n",
    "        plt.show()\n",
    "    \n",
    "    \n",
    "    # amplitudes that are above the threshold\n",
    "    main_amp = np.where(amp>threshold, amp, 0)  # similar to amp, but amplitudes of all frequencies that are below the threshold are set to zero\n",
    "    main_freqs = freq[np.argwhere(amp>threshold)][:, 0]\n",
    "\n",
    "    \n",
    "    \n",
    "    #mainAmp is for plotting purposes only, we really only care about the argwhere\n",
    "    # Plot the frequencies    \n",
    "    if drawPlots:\n",
    "        f1 = plt.figure()\n",
    "        plt.plot(freq[:3500], main_amp[:3500])\n",
    "        plt.xlabel(\"Frequency (Hz)\")\n",
    "        plt.ylabel(\"Amplitude\")\n",
    "        plt.title(\"Main frequencies in spectrum\")\n",
    "        plt.show()\n",
    "    \n",
    "    all_chord_notes = freqToNote(main_freqs[:])\n",
    "    chord_notes = set(all_chord_notes)\n",
    "    \n",
    "    \n",
    "    return chord_notes, main_freqs, all_chord_notes\n"
   ]
  },
  {
   "cell_type": "code",
   "execution_count": 7,
   "metadata": {},
   "outputs": [
    {
     "data": {
      "image/png": "[encoded data removed]",
      "text/plain": [
       "<Figure size 432x288 with 1 Axes>"
      ]
     },
     "metadata": {
      "needs_background": "light"
     },
     "output_type": "display_data"
    },
    {
     "name": "stdout",
     "output_type": "stream",
     "text": [
      "FFT time: 0.08793115615844727\n"
     ]
    },
    {
     "data": {
      "image/png": "[encoded data removed]",
      "text/plain": [
       "<Figure size 432x288 with 1 Axes>"
      ]
     },
     "metadata": {
      "needs_background": "light"
     },
     "output_type": "display_data"
    },
    {
     "data": {
      "image/png": "[encoded data removed]",
      "text/plain": [
       "<Figure size 432x288 with 1 Axes>"
      ]
     },
     "metadata": {
      "needs_background": "light"
     },
     "output_type": "display_data"
    },
    {
     "name": "stdout",
     "output_type": "stream",
     "text": [
      "Run time: 0.6186566352844238\n"
     ]
    }
   ],
   "source": [
    "import time\n",
    "s=time.time()\n",
    "chord_notes, main_freqs, all_chord_notes = Identify('FMaj13.wav', thresh=3, drawPlots=True)\n",
    "print(\"Run time:\", time.time()-s)"
   ]
  },
  {
   "cell_type": "code",
   "execution_count": 8,
   "metadata": {},
   "outputs": [
    {
     "name": "stdout",
     "output_type": "stream",
     "text": [
      "[ 115.63821797  115.83191683  116.02561569  116.21931454  116.4130134\n",
      "  116.60671226  172.5856821   172.77938095  172.97307981  222.17258964\n",
      "  222.36628849  222.55998735  222.75368621  222.94738507  223.14108392\n",
      "  223.33478278  295.58445665  295.77815551  295.97185437  331.22504645\n",
      "  331.41874531  331.61244416  443.57038384  443.7640827   443.95778156\n",
      "  444.15148041  444.34517927  444.53887813  444.73257699  444.92627584\n",
      "  445.1199747   445.31367356  445.50737242  445.70107127 2316.05723999\n",
      " 2316.25093885 2316.4446377  2316.63833656 2316.83203542 2317.02573428]\n",
      "['A#' 'A#' 'A#' 'A#' 'A#' 'A#' 'F' 'F' 'F' 'A' 'A' 'A' 'A' 'A' 'A' 'A' 'D'\n",
      " 'D' 'D' 'E' 'E' 'E' 'A' 'A' 'A' 'A' 'A' 'A' 'A' 'A' 'A' 'A' 'A' 'A' 'D'\n",
      " 'D' 'D' 'D' 'D' 'D']\n",
      "{'A#', 'E', 'D', 'A', 'F'}\n"
     ]
    }
   ],
   "source": [
    "print(main_freqs)\n",
    "print(all_chord_notes)\n",
    "print(chord_notes)"
   ]
  },
  {
   "cell_type": "code",
   "execution_count": null,
   "metadata": {},
   "outputs": [],
   "source": []
  }
 ],
 "metadata": {
  "kernelspec": {
   "display_name": "Python 3",
   "language": "python",
   "name": "python3"
  },
  "language_info": {
   "codemirror_mode": {
    "name": "ipython",
    "version": 3
   },
   "file_extension": ".py",
   "mimetype": "text/x-python",
   "name": "python",
   "nbconvert_exporter": "python",
   "pygments_lexer": "ipython3",
   "version": "3.7.6"
  }
 },
 "nbformat": 4,
 "nbformat_minor": 4
}
