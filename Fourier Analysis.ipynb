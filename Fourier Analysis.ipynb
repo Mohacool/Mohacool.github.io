{
 "cells": [
  {
   "cell_type": "code",
   "execution_count": 9,
   "metadata": {},
   "outputs": [],
   "source": [
    "import numpy as np\n",
    "import matplotlib.pyplot as plt\n",
    "from scipy.io import wavfile"
   ]
  },
  {
   "cell_type": "markdown",
   "metadata": {},
   "source": [
    "## Steps:\n",
    "\n",
    "1) open sound file\n",
    "\n",
    "2) fft\n",
    "\n",
    "3) identify top peaks (all peaks above threshold)\n",
    "\n",
    "TODO:\n",
    "\n",
    "4) convert peaks to notes NOTE: guitar must be tuned\n",
    "\n",
    "5) put notes in a set (no repeats)\n",
    "\n",
    "6) send set of notes to website for identification\n",
    "\n",
    "## Ideas:\n",
    "\n",
    "- can the sound be read straight into an array rather than saving as wav and then reading it?\n",
    "- trim silence from audio file (only start reording once the volume is above threshold (this is website side, not in this code)\n",
    "- trim frequency spectrum to within range of guitar frequencies (does this improve speed? The frequencies outside this range are probably not going to have high enough amplitudes to matter anyways))\n",
    "\n",
    "# parameters:\n",
    "- threshold for a frequency to count as a \"main frequency\", currently set to max_amplitude/5"
   ]
  },
  {
   "cell_type": "code",
   "execution_count": 38,
   "metadata": {},
   "outputs": [],
   "source": [
    "def freqToNote(freq):\n",
    "    '''\n",
    "    TODO: need a table of note frequencies. Limit to range of frequencies? Pick closest frequency in table\n",
    "    '''\n",
    "    pass\n",
    "\n",
    "def getSignal(fileName):\n",
    "    '''\n",
    "    Read the given .wav file and return the signal\n",
    "    '''\n",
    "    # Read the .wav file to get the sampling rate and the data contained in the file\n",
    "    sampFreq, sound = wavfile.read(fileName)\n",
    "\n",
    "    #    sound.dtype = 'int16'means that the sound pressure values are mapped to integer values that can range from -2^15 to (2^15)-1. The samples are taken 44100 times per second.\n",
    "    \n",
    "    #    We can convert our sound (numpy) array to floating point values ranging from -1 to 1 as follows:\n",
    "    sound = sound / 2.0**15 \n",
    "\n",
    "\n",
    "    # Duration of the chord/sound (in seconds):\n",
    "    duration = sound.shape[0] / sampFreq\n",
    "\n",
    "\n",
    "    # To get the proper time on the x-axis we have to generate a numpy array using sampFreq:\n",
    "    time = np.arange(sound.shape[0]) / sound.shape[0] * duration\n",
    "\n",
    "    # select a single channel:\n",
    "    signal = sound[:,0] \n",
    "    \n",
    "    plt.plot(time, signal)\n",
    "    plt.xlabel(\"Time(s)\")\n",
    "    plt.ylabel(\"Amplitude\")\n",
    "    plt.title(\"Signal\")\n",
    "    plt.show()\n",
    "    \n",
    "    return signal, sampFreq\n",
    "    \n"
   ]
  },
  {
   "cell_type": "code",
   "execution_count": 47,
   "metadata": {},
   "outputs": [],
   "source": [
    "def Identify(fileName):\n",
    "    '''\n",
    "    Identifies the chord in the file with name fileName using Fourier analysis.\n",
    "    \n",
    "    Returns the chord (list of the notes in the major triad), the root note, and the duration the chord \n",
    "    plays for (ie. length of the wav file) in seconds\n",
    "    '''\n",
    "    \n",
    "    signal, sampFreq = getSignal(fileName)\n",
    "\n",
    "    # Find the amplitude of each frequency using fast fourier transform\n",
    "    fft_spectrum = np.fft.rfft(signal)\n",
    "    amp = np.abs(fft_spectrum)\n",
    "    freq = np.fft.rfftfreq(signal.size, d=1./sampFreq)\n",
    "    \n",
    "    # Plot the frequencies    \n",
    "    f1 = plt.figure()\n",
    "    plt.plot(freq[:3500], amp[:3500])\n",
    "    plt.xlabel(\"Frequency (Hz)\")\n",
    "    plt.ylabel(\"Amplitude\")\n",
    "    plt.title(\"Frequency spectrum\")\n",
    "\n",
    "\n",
    "   \n",
    "    threshold = np.max(amp)/5    \n",
    "    \n",
    "    # amplitudes that are above the threshold\n",
    "    main_amp = np.where(amp>threshold, amp, 0)  # similar to amp, but amplitudes of all frequencies that are below the threshold are set to zero\n",
    "    \n",
    "    # Plot the frequencies    \n",
    "    f1 = plt.figure()\n",
    "    plt.plot(freq[:3500], main_amp[:3500])\n",
    "    plt.xlabel(\"Frequency (Hz)\")\n",
    "    plt.ylabel(\"Amplitude\")\n",
    "    plt.title(\"Main frequencies in spectrum\")\n",
    "    \n",
    "    return\n",
    "    \n",
    "    fund = []\n",
    "    \n",
    "    # Finding the three fundamental frequencies\n",
    "    for i in range(3):\n",
    "        # Getting the next fundamental frequency\n",
    "        max_index = np.argmax(amp)\n",
    "        fund_freq = freq[max_index]\n",
    "        \n",
    "        #sometimes the highest amplitude didn't correspond to the fundamental frequency, so we have to \n",
    "        # make sure that fund_freq is really the fundamental frequency,, and if not, get the true fundamental frequency\n",
    "        fund_freq = checkFundamental(freq, amp, fund_freq, main_amp)\n",
    "        \n",
    "\n",
    "\n",
    "        # remove overtones of the fundamental frequency (so that the remaining frequency with the highest amplitude is the\n",
    "        #                                                      fundamental frequency of the next note in the chord)        \n",
    "        amp = removeOvertones(freq, amp, fund_freq)\n",
    "        \n",
    "        fund.append(fund_freq)\n",
    "    \n",
    "    # get names of notes from fundamental frequencies\n",
    "    notes = freqToNote(fund)\n",
    "    \n",
    "    # identify the chord and the root node\n",
    "    root = identify_root(notes)\n",
    "    chord = major_chord(root)\n",
    "    \n",
    "    # now that the chord is known, display the plot along with the chord name\n",
    "    plt.title(root + \" Major Chord\")\n",
    "    plt.show()\n",
    "    \n",
    "\n",
    "    \n",
    "    return chord,root, duration\n"
   ]
  },
  {
   "cell_type": "code",
   "execution_count": 48,
   "metadata": {},
   "outputs": [
    {
     "data": {
      "image/png": "[encoded data removed]",
      "text/plain": [
       "<Figure size 432x288 with 1 Axes>"
      ]
     },
     "metadata": {
      "needs_background": "light"
     },
     "output_type": "display_data"
    },
    {
     "data": {
      "image/png": "[encoded data removed]",
      "text/plain": [
       "<Figure size 432x288 with 1 Axes>"
      ]
     },
     "metadata": {
      "needs_background": "light"
     },
     "output_type": "display_data"
    },
    {
     "data": {
      "image/png": "[encoded data removed]",
      "text/plain": [
       "<Figure size 432x288 with 1 Axes>"
      ]
     },
     "metadata": {
      "needs_background": "light"
     },
     "output_type": "display_data"
    }
   ],
   "source": [
    "Identify('C#.wav')"
   ]
  },
  {
   "cell_type": "code",
   "execution_count": 97,
   "metadata": {},
   "outputs": [
    {
     "data": {
      "text/html": [
       "<div>\n",
       "<style scoped>\n",
       "    .dataframe tbody tr th:only-of-type {\n",
       "        vertical-align: middle;\n",
       "    }\n",
       "\n",
       "    .dataframe tbody tr th {\n",
       "        vertical-align: top;\n",
       "    }\n",
       "\n",
       "    .dataframe thead th {\n",
       "        text-align: right;\n",
       "    }\n",
       "</style>\n",
       "<table border=\"1\" class=\"dataframe\">\n",
       "  <thead>\n",
       "    <tr style=\"text-align: right;\">\n",
       "      <th></th>\n",
       "      <th>Note Name</th>\n",
       "      <th>Frequency (Hz)</th>\n",
       "    </tr>\n",
       "  </thead>\n",
       "  <tbody>\n",
       "    <tr>\n",
       "      <th>0</th>\n",
       "      <td>C</td>\n",
       "      <td>16.351</td>\n",
       "    </tr>\n",
       "    <tr>\n",
       "      <th>1</th>\n",
       "      <td>C#</td>\n",
       "      <td>17.324</td>\n",
       "    </tr>\n",
       "    <tr>\n",
       "      <th>2</th>\n",
       "      <td>D</td>\n",
       "      <td>18.354</td>\n",
       "    </tr>\n",
       "    <tr>\n",
       "      <th>3</th>\n",
       "      <td>D# / Eb</td>\n",
       "      <td>19.445</td>\n",
       "    </tr>\n",
       "    <tr>\n",
       "      <th>4</th>\n",
       "      <td>E</td>\n",
       "      <td>20.601</td>\n",
       "    </tr>\n",
       "    <tr>\n",
       "      <th>...</th>\n",
       "      <td>...</td>\n",
       "      <td>...</td>\n",
       "    </tr>\n",
       "    <tr>\n",
       "      <th>115</th>\n",
       "      <td>G</td>\n",
       "      <td>12543.856</td>\n",
       "    </tr>\n",
       "    <tr>\n",
       "      <th>116</th>\n",
       "      <td>G# / Ab</td>\n",
       "      <td>13289.752</td>\n",
       "    </tr>\n",
       "    <tr>\n",
       "      <th>117</th>\n",
       "      <td>A</td>\n",
       "      <td>14080</td>\n",
       "    </tr>\n",
       "    <tr>\n",
       "      <th>118</th>\n",
       "      <td>A# / Bb</td>\n",
       "      <td>14917.24</td>\n",
       "    </tr>\n",
       "    <tr>\n",
       "      <th>119</th>\n",
       "      <td>B</td>\n",
       "      <td>15804.264</td>\n",
       "    </tr>\n",
       "  </tbody>\n",
       "</table>\n",
       "<p>120 rows × 2 columns</p>\n",
       "</div>"
      ],
      "text/plain": [
       "    Note Name Frequency (Hz)\n",
       "0           C         16.351\n",
       "1          C#         17.324\n",
       "2           D         18.354\n",
       "3     D# / Eb         19.445\n",
       "4           E         20.601\n",
       "..        ...            ...\n",
       "115         G      12543.856\n",
       "116   G# / Ab      13289.752\n",
       "117         A          14080\n",
       "118   A# / Bb       14917.24\n",
       "119         B      15804.264\n",
       "\n",
       "[120 rows x 2 columns]"
      ]
     },
     "execution_count": 97,
     "metadata": {},
     "output_type": "execute_result"
    }
   ],
   "source": [
    "# read, rewrite, and save table of not frequencies\n",
    "import pandas as pd\n",
    "\n",
    "data = np.genfromtxt('note_frequency_table.csv', delimiter=',', encoding=\"utf-8-sig\", dtype=None, invalid_raise = False, comments=None)\n",
    "\n",
    "\n",
    "\n",
    "# create pandas dataframe\n",
    "data = pd.DataFrame(data[1:, :], columns=data[0])\n",
    "data"
   ]
  },
  {
   "cell_type": "code",
   "execution_count": null,
   "metadata": {},
   "outputs": [],
   "source": []
  },
  {
   "cell_type": "code",
   "execution_count": null,
   "metadata": {},
   "outputs": [],
   "source": []
  }
 ],
 "metadata": {
  "kernelspec": {
   "display_name": "Python 3",
   "language": "python",
   "name": "python3"
  },
  "language_info": {
   "codemirror_mode": {
    "name": "ipython",
    "version": 3
   },
   "file_extension": ".py",
   "mimetype": "text/x-python",
   "name": "python",
   "nbconvert_exporter": "python",
   "pygments_lexer": "ipython3",
   "version": "3.7.6"
  }
 },
 "nbformat": 4,
 "nbformat_minor": 4
}
